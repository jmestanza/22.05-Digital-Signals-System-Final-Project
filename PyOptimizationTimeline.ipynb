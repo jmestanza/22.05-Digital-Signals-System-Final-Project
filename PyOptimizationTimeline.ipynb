{
  "nbformat": 4,
  "nbformat_minor": 0,
  "metadata": {
    "colab": {
      "name": "PyOptimizationTimeline",
      "provenance": [],
      "collapsed_sections": [],
      "toc_visible": true,
      "include_colab_link": true
    },
    "kernelspec": {
      "display_name": "Python 3",
      "name": "python3"
    }
  },
  "cells": [
    {
      "cell_type": "markdown",
      "metadata": {
        "id": "view-in-github",
        "colab_type": "text"
      },
      "source": [
        "<a href=\"https://colab.research.google.com/github/newtonis/TPF_ASSD/blob/master/PyOptimizationTimeline.ipynb\" target=\"_parent\"><img src=\"https://colab.research.google.com/assets/colab-badge.svg\" alt=\"Open In Colab\"/></a>"
      ]
    },
    {
      "cell_type": "markdown",
      "metadata": {
        "id": "JYzjAkw1fg5N",
        "colab_type": "text"
      },
      "source": [
        "##Gráfico de tiempo de ejecución para una misma imagen"
      ]
    },
    {
      "cell_type": "markdown",
      "metadata": {
        "id": "cBQ_X5a7mES4",
        "colab_type": "text"
      },
      "source": [
        "Para que las pruebas realizadas terminen en un tiempo razonable se decidió realizar 500 iteraciones del algoritmo. Dado que tardaba demasiado en converger, nos vimos obligados a encontrar formas de acelerar el procesamiento.\n",
        "\n",
        "Se investigó una posible solución a corto plazo, siendo la misma [Numba](http://numba.pydata.org/) que se trata de un compilador que optimiza un subconjunto de Python y numpy.\n",
        "\n",
        "\n",
        "Además, se contempló una sección reducida del código que se pensó como el \"cuello de botella\" del algoritmo, siendo esta sección la función getTotalSum que realiza la suma de todas las distancias RGB entre dos fragmentos de imagen.\n",
        "\n",
        "*   3.86 mins, código sin editar añadiendo numba \n",
        "*   4.54 min, sin numba agregando instrucciones que utilicen numpy\n",
        "*   2.72 min, sin numba, codigo reducido a 3 lineas y con numpy\n",
        "*   2.12 minutos sin numba, 3 lineas y numpy\n",
        "*   1.77 minutos sin numba, 1 linea y numpy\n",
        "\n",
        "Mediante el Profiler de la versión Professional de Pycharm se pudo ver que el cuello de botella del algoritmo venía por otro lado, por lo cual se decidió utilizar numba en la función getMaxGrad. \n",
        "*   1.32 minutos, añadi numba a getMaxGrad (real cuello de botella)\n",
        "*   1.301 minutos, numba a varias funciones además de getMaxGrad"
      ]
    },
    {
      "cell_type": "code",
      "metadata": {
        "id": "TUF0G3NYfo1x",
        "colab_type": "code",
        "outputId": "ac57c87d-9c67-4ba6-db7f-394ae67b7dbf",
        "colab": {
          "base_uri": "https://localhost:8080/",
          "height": 297
        }
      },
      "source": [
        "import matplotlib.pyplot as plt\n",
        "x = [3.86,4.54,2.72,2.12,1.77,1.32, 1.301]\n",
        "plt.plot(x)\n",
        "plt.ylabel('Tiempo(min) para iteración 500')\n",
        "plt.xlabel('Ejecución numero')"
      ],
      "execution_count": 6,
      "outputs": [
        {
          "output_type": "execute_result",
          "data": {
            "text/plain": [
              "Text(0.5, 0, 'Ejecución numero')"
            ]
          },
          "metadata": {
            "tags": []
          },
          "execution_count": 6
        },
        {
          "output_type": "display_data",
          "data": {
            "image/png": "[encoded data removed]",
            "text/plain": [
              "<Figure size 432x288 with 1 Axes>"
            ]
          },
          "metadata": {
            "tags": []
          }
        }
      ]
    }
  ]
}